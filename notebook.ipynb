{
 "cells": [
  {
   "cell_type": "markdown",
   "id": "9683146c-d0ec-4cf2-8a9e-b02a4c8586e3",
   "metadata": {},
   "source": [
    "# INF367 Mandatory 2"
   ]
  },
  {
   "cell_type": "code",
   "execution_count": 66,
   "id": "fdd2349b-dce7-4d2f-8833-8eb99d02a64a",
   "metadata": {},
   "outputs": [],
   "source": [
    "import numpy as np\n",
    "from sklearn.datasets import load_iris\n",
    "from sklearn.model_selection import train_test_split\n",
    "from sklearn.metrics import log_loss, confusion_matrix, ConfusionMatrixDisplay, accuracy_score\n",
    "from sklearn.preprocessing import MinMaxScaler\n",
    "from qiskit.circuit.library import UnitaryGate\n",
    "from collections import Counter, defaultdict\n",
    "from qiskit import QuantumCircuit, transpile\n",
    "from qiskit.circuit import Parameter\n",
    "from qiskit.visualization import plot_histogram\n",
    "from qiskit.transpiler.preset_passmanagers import generate_preset_pass_manager\n",
    "from qiskit_aer import AerSimulator, QasmSimulator\n",
    "from qiskit_ibm_runtime import SamplerV2 as Sampler\n",
    "from matplotlib import pyplot as plt\n",
    "from qiskit.result import marginal_counts\n",
    "from src import Model1, Model2\n"
   ]
  },
  {
   "cell_type": "code",
   "execution_count": 67,
   "id": "606467ba-384e-4dcb-9b58-9d881cf44463",
   "metadata": {},
   "outputs": [],
   "source": [
    "SEED = 367"
   ]
  },
  {
   "cell_type": "markdown",
   "id": "6d9e661d-158f-42af-b332-be9f811a1f4e",
   "metadata": {},
   "source": [
    "## Data exploration and pre-processing"
   ]
  },
  {
   "cell_type": "code",
   "execution_count": null,
   "id": "6961c2d7-ba6d-463c-b8ee-d0de736677d6",
   "metadata": {},
   "outputs": [],
   "source": [
    "X, y = load_iris(return_X_y=True)\n",
    "X_train, X_rest, y_train, y_rest = train_test_split(X, y, train_size=.6, random_state=SEED)\n",
    "X_val, X_test, y_val, y_test = train_test_split(X_rest, y_rest, train_size=.5, random_state=SEED)\n",
    "print(\"Training size: \", len(X_train))\n",
    "print(\"Validation size: \", len(X_val))\n",
    "print(\"Test size: \", len(X_test))"
   ]
  },
  {
   "cell_type": "code",
   "execution_count": null,
   "id": "030c09ed-9409-4623-871f-5ef16695c3b3",
   "metadata": {},
   "outputs": [],
   "source": [
    "print(\"Features shape: \",X_train.shape)\n",
    "print(\"Target shape: \",y_train.shape)\n",
    "print(f\"Feature value range: {np.min(X_train)} : {np.max(X_train)}\")\n",
    "print(\"Target values: \", Counter(y_train))"
   ]
  },
  {
   "cell_type": "code",
   "execution_count": null,
   "id": "61d9b95e-5d71-402e-8c92-994e06e196de",
   "metadata": {},
   "outputs": [],
   "source": [
    "scaler = MinMaxScaler(feature_range=(0,np.pi))\n",
    "X_train = scaler.fit_transform(X_train)"
   ]
  },
  {
   "cell_type": "markdown",
   "id": "e669bf04-03bd-446f-a38a-18cd3de0f874",
   "metadata": {},
   "source": [
    "### Helper functions"
   ]
  },
  {
   "cell_type": "code",
   "execution_count": 69,
   "id": "9ce8aca0-c301-4782-8cbf-f48475bb1ca8",
   "metadata": {},
   "outputs": [],
   "source": [
    "def output_mapping(binary_counts, n_classes):\n",
    "    \"\"\"\n",
    "    Maps binary count output to n classes\n",
    "    \"\"\"\n",
    "    mapping = {}\n",
    "    class_preds = defaultdict(int)\n",
    "    for binary in binary_counts:\n",
    "        b_number = int(binary, base=2)\n",
    "        c = b_number % n_classes\n",
    "        mapping.update({binary:c})\n",
    "        \n",
    "    for binary, count in binary_counts.items():\n",
    "        class_preds[mapping[binary]] += count\n",
    "\n",
    "    for i in range(n_classes):\n",
    "        if i not in class_preds:\n",
    "            class_preds[i] = 0\n",
    "    \n",
    "    return class_preds"
   ]
  },
  {
   "cell_type": "code",
   "execution_count": 70,
   "id": "b6f5207a-bffc-40fb-8b3d-8efa3399880a",
   "metadata": {},
   "outputs": [],
   "source": [
    "BACKEND = AerSimulator()\n",
    "def measure_circuit(qc: QuantumCircuit, shots:int=1000, qbits:list=None):\n",
    "    pm = generate_preset_pass_manager(backend=BACKEND, optimization_level=1)\n",
    "    isa_circuit = pm.run(qc)\n",
    "    result = BACKEND.run(isa_circuit, shots=shots).result()\n",
    "    if qbits is not None:\n",
    "        return marginal_counts(result, qbits).get_counts()\n",
    "    else:\n",
    "        return result.get_counts()"
   ]
  },
  {
   "cell_type": "markdown",
   "id": "918a8142-09da-4b8e-9c6c-2ccec743c2d7",
   "metadata": {},
   "source": [
    "## QNN-circuits"
   ]
  },
  {
   "cell_type": "code",
   "execution_count": null,
   "id": "f7932489",
   "metadata": {},
   "outputs": [],
   "source": [
    "# Qircuit 1\n",
    "def make_circuit1(features, parameters):\n",
    "    qc_1 = QuantumCircuit(4, 4)\n",
    "    for i in range(4):\n",
    "        qc_1.rx(qubit=i, theta=features[i])\n",
    "    qc_1.barrier()\n",
    "\n",
    "    #qc_1_unitary_V2 = UnitaryGate([[1,0], [0,1]])\n",
    "    params = [Parameter(f\"{i}\") for i in range(9)]\n",
    "    qc_1.append(Custom_UnitaryGate1([params[0], params[1]]), [3,2])\n",
    "    qc_1.append(Custom_UnitaryGate1([params[0], params[1]]), [1,0])\n",
    "    qc_1.barrier()\n",
    "\n",
    "    qc_1.measure(qubit=2, cbit=2)\n",
    "    qc_1.append(Custom_UnitaryGateV([params[2], params[3], params[4]]).control(1), [2,3])\n",
    "\n",
    "    qc_1.measure(qubit=0, cbit=0)\n",
    "    qc_1.append(Custom_UnitaryGateV([params[2], params[3], params[4]]).control(1), [0,1])\n",
    "    \n",
    "    qc_1.barrier()\n",
    "    qc_1.append(Custom_UnitaryGate2([params[5], params[6], params[7], params[8]]), [3,1])\n",
    "    qc_1.measure(qubit=1, cbit=1)\n",
    "    qc_1.measure(qubit=3, cbit=3)\n",
    "\n",
    "    qc_1 = qc_1.assign_parameters(parameters)\n",
    "    return qc_1\n",
    "\n",
    "def Custom_UnitaryGate1(parameters):\n",
    "    qc = QuantumCircuit(2)\n",
    "    qc.cx(0,1)\n",
    "    qc.rz(parameters[0], 1)\n",
    "    qc.ry(parameters[1], 0)\n",
    "    qc.cx(0,1)\n",
    "    return qc.to_gate(label=\"U1\")\n",
    "\n",
    "def Custom_UnitaryGate2(parameters):\n",
    "    qc = QuantumCircuit(2)\n",
    "    qc.cx(0,1)\n",
    "    qc.rx(parameters[0], 1)\n",
    "    qc.rx(parameters[1], 0)\n",
    "    qc.rz(parameters[2], 0)\n",
    "    qc.rz(parameters[3], 1)\n",
    "    qc.cx(0,1)\n",
    "    return qc.to_gate(label=\"U2\")\n",
    "\n",
    "def Custom_UnitaryGateV(parameters):\n",
    "    qc = QuantumCircuit(1)\n",
    "    qc.rx(parameters[0], 0)\n",
    "    qc.ry(parameters[1], 0)\n",
    "    qc.rz(parameters[2], 0)\n",
    "    return qc.to_gate(label=\"V\")\n",
    "\n",
    "circ1 = make_circuit1([1.61567622, 1.83259571, 2.34288266, 3.00500167], [1,2,1,2,1,2,1,2,3])\n",
    "circ1.decompose()\n",
    "circ1.draw(reverse_bits=True, output=\"mpl\")"
   ]
  },
  {
   "cell_type": "code",
   "execution_count": null,
   "id": "27fc7d4c-89e6-459d-92c7-dae728320681",
   "metadata": {},
   "outputs": [],
   "source": [
    "results = measure_circuit(circ1, 1000)\n",
    "plot_histogram(results)\n",
    "# output_mapping(results, 3)"
   ]
  },
  {
   "cell_type": "code",
   "execution_count": null,
   "id": "4fa71d34-6995-4fb9-be0e-1db9e3a1606e",
   "metadata": {},
   "outputs": [],
   "source": [
    "# Circuit 2\n",
    "\n",
    "def circuit2(features, trainable_parameters, layers=2):\n",
    "    input_size = len(features)\n",
    "    qc = QuantumCircuit(input_size)\n",
    "    for i in range(input_size):\n",
    "        qc.rx(features[i], i) # Roterer den aktuelle qubit med en rx-rotasjon basert på input-verdien. Dette er input-encoding-steget, hvor vi mapper de klassiske inputverdiene til kvantetilstander.\n",
    "    qc.barrier() # Vi legger inn en barrier for å markere slutten av input-encodingen. Her legger vi bare en sluttpunkt av circuit, den stripete linjen p circuits nede i ploten. \n",
    "\n",
    "    for i in range(layers): # Så går vi gjennom layers antall lag:\n",
    "        for j in range(input_size):\n",
    "            qc.ry(Parameter(f\"phi{i}{j}\"),j) # Roterer hver qubit med en ry-rotasjon, hvor rotasjonsvinkelen er en justerbar parameter. Vekslende ry-rotasjoner og CX-porter gir oss en justerbar krets.\n",
    "        for j in range(input_size-1, 0, -1): \n",
    "            qc.cx(j, j-1) # Her legger vi qubitsene i entangelment tilstand\n",
    "        qc.barrier() # Markerer slutten av laget. \n",
    "\n",
    "    qc = qc.assign_parameters(trainable_parameters) # Etter lagene binder vi de justerbare parameterne til kretsen ved hjelp av assign_parameters().\n",
    "    qc.measure_all() # Til slutt måler vi alle qubitene ved hjelp av measure_all().\n",
    "    return qc\n",
    "    \n",
    "layers = 2\n",
    "feature_size = 4\n",
    "parameters = np.random.uniform(low=0, high=np.pi, size=(layers*feature_size,))\n",
    "circ2 = circuit2([0, 1.64, 2.24, 3.0], parameters, layers)\n",
    "circ2.draw(\"mpl\", reverse_bits=True)"
   ]
  },
  {
   "cell_type": "code",
   "execution_count": null,
   "id": "e70f73ae-3bd6-44d9-899b-18af9ca9a933",
   "metadata": {},
   "outputs": [],
   "source": [
    "def circuit3(features, trainable_parameters, layers):\n",
    "    input_size = len(features)\n",
    "    qc = QuantumCircuit(input_size)\n",
    "\n",
    "    # Step 1: Feature Encoding\n",
    "    for i in range(input_size):\n",
    "        qc.h(i)  # Legger til en Hadamard-port på hver qubit, som gir en superposisjonstilstand.\n",
    "        qc.rz(features[i], i)  # RZ-porten er en av flere mulige porter vi kan bruke for encoding. Merk, kan bruke (RX, RY eller RZ). \n",
    "    qc.barrier()\n",
    "\n",
    "    # Step 2: Variational Layers\n",
    "    for i in range(layers):\n",
    "        for j in range(input_size):\n",
    "            qc.rx(Parameter(f\"theta{i}{j}\"), j)  # Justerbar RX-rotasjon på hver qubit.\n",
    "            qc.ry(Parameter(f\"phi{i}{j}\"), j)    # Legger til en justerbar RY-rotasjon.\n",
    "        for j in range(0, input_size - 1, 2):  # For å skape entanglement, legger vi til CX-porter mellom hvert par av qubits.\n",
    "            qc.cx(j, j + 1)\n",
    "        qc.barrier()\n",
    "\n",
    "    # Step 3: Parameter Binding and Measurement\n",
    "    qc = qc.assign_parameters(trainable_parameters)\n",
    "    qc.measure_all()\n",
    "\n",
    "    return qc\n",
    "\n",
    "# Konfigurer parametre na \n",
    "layers = 4\n",
    "feature_size = 3\n",
    "parameters = np.random.uniform(low=0, high=2*np.pi, size=(layers * feature_size))\n",
    "circ = circuit2([1.2, 2.1, 0.5], parameters, layers)\n",
    "circ.draw(\"mpl\", reverse_bits=True)"
   ]
  },
  {
   "cell_type": "code",
   "execution_count": null,
   "id": "c575ae30-76ce-48ac-9e9d-b6093386d611",
   "metadata": {},
   "outputs": [],
   "source": [
    "results = measure_circuit(circ2, 500)\n",
    "plot_histogram(results)\n",
    "test = output_mapping(results, 3)\n",
    "print(test)\n",
    "print(max(test, key=lambda x: test[x]))"
   ]
  },
  {
   "cell_type": "code",
   "execution_count": null,
   "id": "34e153aa-09c9-465e-84ca-d1f6c66c8dfa",
   "metadata": {},
   "outputs": [],
   "source": [
    "# Circuit 3\n",
    "\n",
    "qc_3 = QuantumCircuit()"
   ]
  },
  {
   "cell_type": "markdown",
   "id": "931b7d34-cf76-44d2-9f2e-d4705d2ac32c",
   "metadata": {},
   "source": [
    "## Gradient Descent Function"
   ]
  },
  {
   "cell_type": "code",
   "execution_count": null,
   "id": "470f817e-f947-421c-820e-d74c83cfc349",
   "metadata": {},
   "outputs": [],
   "source": [
    "class TestModel():\n",
    "    def __init__(self, circuit_func, layers=2, learning_rate=0.01, prediction_shots=1000, gradient_shots=100, epsilon=1):\n",
    "        self.layers = layers\n",
    "        self.feature_size = 4\n",
    "        self.parameters = np.random.uniform(low=0, high=np.pi, size=(layers*feature_size,))\n",
    "        self.circuit_func = circuit_func\n",
    "        self.learning_rate = learning_rate\n",
    "        self.gradient_shots = gradient_shots\n",
    "        self.prediction_shots = prediction_shots\n",
    "        self.train_loss = []\n",
    "        self.val_loss = []\n",
    "        self.epsilon = epsilon\n",
    "\n",
    "    def gradient(self, data, targets):\n",
    "        gradients = []\n",
    "        for i in range(len(self.parameters)):\n",
    "            p1 = self.parameters.copy()\n",
    "            p1[i] += self.epsilon\n",
    "            p2 = self.parameters.copy()\n",
    "            p2[i] -= self.epsilon\n",
    "            loss1 = self._loss(data, targets, self.gradient_shots, p1)\n",
    "            loss2 = self._loss(data, targets, self.gradient_shots, p2)\n",
    "            partial = (loss1 - loss2)/2*self.epsilon\n",
    "            gradients.append(partial)\n",
    "        return np.array(gradients)\n",
    "        \n",
    "    \n",
    "    def _loss(self, data, targets, shots, parameters=None):\n",
    "        if parameters is None:\n",
    "            parameters = self.parameters\n",
    "        preds = np.array([self._predict_proba(x, shots=shots, parameters=parameters) for x in data])\n",
    "        return log_loss(targets, preds, labels=[0,1,2])\n",
    "        \n",
    "\n",
    "    def fit(self, data, targets, val_data=None, val_targets=None):\n",
    "        for i in range(5): \n",
    "            print(f\"Epoch {i+1}\", end=\" \")\n",
    "            gradient = self.gradient(data, targets)\n",
    "            self.parameters -= self.learning_rate * gradient\n",
    "\n",
    "            train_loss = self._loss(data, targets, shots=self.prediction_shots)\n",
    "            print(f\"Train loss: {train_loss}\", end=\" \")\n",
    "            self.train_loss.append(train_loss)\n",
    "            if val_data is not None and val_targets is not None:\n",
    "                val_loss = self._loss(val_data, val_targets, shots=self.prediction_shots)\n",
    "                self.val_loss.append(val_loss)\n",
    "                print(f\"Validation loss: {val_loss}\")\n",
    "        return self\n",
    "\n",
    "    def _predict(self, x, shots=1000):\n",
    "        circuit = self.circuit_func(x, self.parameters, self.layers)\n",
    "        results = measure_circuit(circuit, shots)\n",
    "        class_output = output_mapping(results, 3)\n",
    "        prediction = max(class_output, key=lambda x: class_output[x])\n",
    "        return prediction\n",
    "\n",
    "    def predict(self, X):\n",
    "        return np.array([self._predict(x, shots=self.prediction_shots) for x in X])\n",
    "            \n",
    "\n",
    "    def _predict_proba(self, x, shots=100, parameters=None):\n",
    "        if parameters is None:\n",
    "            parameters = self.parameters\n",
    "            \n",
    "        circuit = self.circuit_func(x, parameters, self.layers)\n",
    "        results = measure_circuit(circuit, shots)\n",
    "        class_output = sorted(output_mapping(results, 3).items())\n",
    "        probs = np.array([n/shots for _,n in class_output])\n",
    "        return probs\n",
    "        \n",
    "    def predict_proba(self, X):\n",
    "        return np.array([self._predict_proba(x, shots=self.prediction_shots) for x in X])"
   ]
  },
  {
   "cell_type": "markdown",
   "id": "a37fbf21-0fa8-4bed-912e-f0c42f93e334",
   "metadata": {},
   "source": [
    "## Training and Validation"
   ]
  },
  {
   "cell_type": "code",
   "execution_count": null,
   "id": "4b4eea51-7000-4d18-8199-2ab25cef7ec6",
   "metadata": {},
   "outputs": [],
   "source": [
    "# test_model = TestModel(circuit2, layers=2, learning_rate=0.6, epsilon=1, gradient_shots=10)\n",
    "test_model = Model2(layers=2, learning_rate=0.6, epsilon=1, gradient_shots=1000)\n",
    "      \n",
    "trained_model = test_model.fit(5, X_train, y_train, X_val, y_val)"
   ]
  },
  {
   "cell_type": "code",
   "execution_count": 72,
   "id": "0d10dfe0-a5fc-4e07-af8a-ec8e18cf9524",
   "metadata": {},
   "outputs": [],
   "source": [
    "def plot_loss(train_loss, val_loss):\n",
    "    plt.title(\"Training and Validation loss\")\n",
    "    plt.plot(train_loss, label=\"Training\")\n",
    "    plt.plot(val_loss, label=\"Validation\")\n",
    "    plt.legend()\n",
    "    plt.show()"
   ]
  },
  {
   "cell_type": "code",
   "execution_count": null,
   "id": "8d12f214-3166-4298-8f70-08dab569ea47",
   "metadata": {},
   "outputs": [],
   "source": [
    "plot_loss(trained_model.train_loss, trained_model.val_loss)"
   ]
  },
  {
   "cell_type": "markdown",
   "id": "6a9933aa-67bf-4cfb-8e68-fbc3424fc5d6",
   "metadata": {},
   "source": [
    "## Test Performance"
   ]
  },
  {
   "cell_type": "code",
   "execution_count": 74,
   "id": "6a64a0ab-5538-4c8b-a2ab-2b68614d331a",
   "metadata": {},
   "outputs": [],
   "source": [
    "preds = trained_model.predict(X_test)"
   ]
  },
  {
   "cell_type": "code",
   "execution_count": null,
   "id": "c3368691-462d-44d6-9ac2-2ca06ed16ffd",
   "metadata": {},
   "outputs": [],
   "source": [
    "print(accuracy_score(y_test, preds))"
   ]
  },
  {
   "cell_type": "code",
   "execution_count": null,
   "id": "7104370d-3724-4a41-a5d1-3a1c41ff261c",
   "metadata": {},
   "outputs": [],
   "source": [
    "cm = confusion_matrix(y_test, preds)\n",
    "disp = ConfusionMatrixDisplay(cm)\n",
    "disp.plot()\n",
    "plt.show()"
   ]
  }
 ],
 "metadata": {
  "kernelspec": {
   "display_name": "Python 3 (ipykernel)",
   "language": "python",
   "name": "python3"
  },
  "language_info": {
   "codemirror_mode": {
    "name": "ipython",
    "version": 3
   },
   "file_extension": ".py",
   "mimetype": "text/x-python",
   "name": "python",
   "nbconvert_exporter": "python",
   "pygments_lexer": "ipython3",
   "version": "3.10.12"
  }
 },
 "nbformat": 4,
 "nbformat_minor": 5
}
