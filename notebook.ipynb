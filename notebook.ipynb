{
 "cells": [
  {
   "cell_type": "markdown",
   "id": "9683146c-d0ec-4cf2-8a9e-b02a4c8586e3",
   "metadata": {},
   "source": [
    "# INF367 Mandatory 2"
   ]
  },
  {
   "cell_type": "code",
   "execution_count": 39,
   "id": "fdd2349b-dce7-4d2f-8833-8eb99d02a64a",
   "metadata": {},
   "outputs": [],
   "source": [
    "import numpy as np\n",
    "from sklearn.datasets import load_iris\n",
    "from sklearn.model_selection import train_test_split\n",
    "from sklearn.preprocessing import MinMaxScaler\n",
    "from collections import Counter\n",
    "from qiskit import QuantumCircuit\n",
    "from qiskit.circuit.library import UnitaryGate\n",
    "from qiskit.circuit import Parameter"
   ]
  },
  {
   "cell_type": "code",
   "execution_count": 2,
   "id": "606467ba-384e-4dcb-9b58-9d881cf44463",
   "metadata": {},
   "outputs": [],
   "source": [
    "SEED = 367"
   ]
  },
  {
   "cell_type": "markdown",
   "id": "6d9e661d-158f-42af-b332-be9f811a1f4e",
   "metadata": {},
   "source": [
    "## Data exploration and pre-processing"
   ]
  },
  {
   "cell_type": "code",
   "execution_count": null,
   "id": "6961c2d7-ba6d-463c-b8ee-d0de736677d6",
   "metadata": {},
   "outputs": [],
   "source": [
    "X, y = load_iris(return_X_y=True)\n",
    "X_train, X_rest, y_train, y_rest = train_test_split(X, y, train_size=.7, random_state=SEED)\n",
    "X_val, X_test, y_val, y_test = train_test_split(X_rest, y_rest, random_state=SEED)\n",
    "print(\"Training size: \", len(X_train))\n",
    "print(\"Validation size: \", len(X_val))\n",
    "print(\"Test size: \", len(X_test))"
   ]
  },
  {
   "cell_type": "code",
   "execution_count": null,
   "id": "030c09ed-9409-4623-871f-5ef16695c3b3",
   "metadata": {},
   "outputs": [],
   "source": [
    "print(\"Features shape: \",X_train.shape)\n",
    "print(\"Target shape: \",y_train.shape)\n",
    "print(f\"Feature value range: {np.min(X_train)} : {np.max(X_train)}\")\n",
    "print(\"Target values: \", Counter(y_train))"
   ]
  },
  {
   "cell_type": "code",
   "execution_count": 5,
   "id": "61d9b95e-5d71-402e-8c92-994e06e196de",
   "metadata": {},
   "outputs": [],
   "source": [
    "scaler = MinMaxScaler(feature_range=(0,np.pi))\n",
    "X_train = scaler.fit_transform(X_train)"
   ]
  },
  {
   "cell_type": "code",
   "execution_count": null,
   "id": "fabd1fd6-8bb1-468a-8396-862950e03aa8",
   "metadata": {},
   "outputs": [],
   "source": [
    "X_train"
   ]
  },
  {
   "cell_type": "markdown",
   "id": "286e7fa8-7c72-45e3-b828-7f5b9cc1fa6b",
   "metadata": {},
   "source": [
    "## QNN-circuits"
   ]
  },
  {
   "cell_type": "code",
   "execution_count": null,
   "id": "f7932489",
   "metadata": {},
   "outputs": [],
   "source": [
    "# Qircuit 1\n",
    "def make_circuit1(features, parameters):\n",
    "    qc_1 = QuantumCircuit(4, 4)\n",
    "    for i in range(4):\n",
    "        qc_1.rx(qubit=i, theta=features[i])\n",
    "    qc_1.barrier()\n",
    "\n",
    "    #qc_1_unitary_V2 = UnitaryGate([[1,0], [0,1]])\n",
    "    params = [Parameter(f\"{i}\") for i in range(9)]\n",
    "    qc_1.append(Custom_UnitaryGate1([params[0], params[1]]), [3,2])\n",
    "    qc_1.append(Custom_UnitaryGate1([params[0], params[1]]), [1,0])\n",
    "    qc_1.barrier()\n",
    "\n",
    "    qc_1.measure(qubit=2, cbit=2)\n",
    "    qc_1.append(Custom_UnitaryGateV([params[2], params[3], params[4]]).control(1), [2,3])\n",
    "\n",
    "    qc_1.measure(qubit=0, cbit=0)\n",
    "    qc_1.append(Custom_UnitaryGateV([params[2], params[3], params[4]]).control(1), [0,1])\n",
    "    \n",
    "    qc_1.barrier()\n",
    "    qc_1.append(Custom_UnitaryGate2([params[5], params[6], params[7], params[8]]), [3,1])\n",
    "    qc_1.measure(qubit=1, cbit=1)\n",
    "    qc_1.measure(qubit=3, cbit=3)\n",
    "\n",
    "    qc_1 = qc_1.assign_parameters(parameters)\n",
    "    return qc_1\n",
    "\n",
    "def Custom_UnitaryGate1(parameters):\n",
    "    qc = QuantumCircuit(2)\n",
    "    qc.cx(0,1)\n",
    "    qc.rz(parameters[0], 1)\n",
    "    qc.ry(parameters[1], 0)\n",
    "    qc.cx(0,1)\n",
    "    return qc.to_gate(label=\"U1\")\n",
    "\n",
    "def Custom_UnitaryGate2(parameters):\n",
    "    qc = QuantumCircuit(2)\n",
    "    qc.cx(0,1)\n",
    "    qc.rx(parameters[0], 1)\n",
    "    qc.rx(parameters[1], 0)\n",
    "    qc.rz(parameters[2], 0)\n",
    "    qc.rz(parameters[3], 1)\n",
    "    qc.cx(0,1)\n",
    "    return qc.to_gate(label=\"U2\")\n",
    "\n",
    "def Custom_UnitaryGateV(parameters):\n",
    "    qc = QuantumCircuit(1)\n",
    "    qc.rx(parameters[0], 0)\n",
    "    qc.ry(parameters[1], 0)\n",
    "    qc.rz(parameters[2], 0)\n",
    "    return qc.to_gate(label=\"V\")\n",
    "\n",
    "circ1 = make_circuit1([1.61567622, 1.83259571, 2.34288266, 3.00500167], [1,2,1,2,1,2,1,2,3])\n",
    "circ1.decompose()\n",
    "circ1.draw(reverse_bits=True, output=\"mpl\")"
   ]
  },
  {
   "cell_type": "code",
   "execution_count": null,
   "id": "2fd0c07d",
   "metadata": {},
   "outputs": [],
   "source": [
    "# Qircuit 2\n",
    "\n",
    "qc_2 = QuantumCircuit()"
   ]
  },
  {
   "cell_type": "code",
   "execution_count": null,
   "id": "85de1fc1",
   "metadata": {},
   "outputs": [],
   "source": [
    "# Qircuit 3\n",
    "\n",
    "qc_3 = QuantumCircuit()"
   ]
  },
  {
   "cell_type": "markdown",
   "id": "08025c21-dcbd-4aa0-b154-0548deb4430f",
   "metadata": {},
   "source": [
    "## Gradient Descent Function"
   ]
  },
  {
   "cell_type": "markdown",
   "id": "a37fbf21-0fa8-4bed-912e-f0c42f93e334",
   "metadata": {},
   "source": [
    "## Training and Validation"
   ]
  },
  {
   "cell_type": "code",
   "execution_count": null,
   "id": "938d4d2a-1396-4981-8a94-d004bf2e6a80",
   "metadata": {},
   "outputs": [],
   "source": []
  },
  {
   "cell_type": "markdown",
   "id": "6a9933aa-67bf-4cfb-8e68-fbc3424fc5d6",
   "metadata": {},
   "source": [
    "## Test Performance"
   ]
  }
 ],
 "metadata": {
  "kernelspec": {
   "display_name": "inf367",
   "language": "python",
   "name": "python3"
  },
  "language_info": {
   "codemirror_mode": {
    "name": "ipython",
    "version": 3
   },
   "file_extension": ".py",
   "mimetype": "text/x-python",
   "name": "python",
   "nbconvert_exporter": "python",
   "pygments_lexer": "ipython3",
   "version": "3.12.4"
  }
 },
 "nbformat": 4,
 "nbformat_minor": 5
}
