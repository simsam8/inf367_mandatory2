{
 "cells": [
  {
   "cell_type": "markdown",
   "id": "9683146c-d0ec-4cf2-8a9e-b02a4c8586e3",
   "metadata": {},
   "source": [
    "# INF367 Mandatory 2"
   ]
  },
  {
   "cell_type": "code",
   "execution_count": null,
   "id": "fdd2349b-dce7-4d2f-8833-8eb99d02a64a",
   "metadata": {},
   "outputs": [],
   "source": [
    "import numpy as np\n",
    "from sklearn.datasets import load_iris\n",
    "from sklearn.model_selection import train_test_split\n",
    "from sklearn.metrics import log_loss, confusion_matrix, ConfusionMatrixDisplay, accuracy_score\n",
    "from sklearn.preprocessing import MinMaxScaler\n",
    "from collections import Counter\n",
    "from qiskit.visualization import plot_histogram\n",
    "from matplotlib import pyplot as plt\n",
    "from src import Model1, Model2, Model3, circuit1, circuit2, circuit3"
   ]
  },
  {
   "cell_type": "code",
   "execution_count": null,
   "id": "606467ba-384e-4dcb-9b58-9d881cf44463",
   "metadata": {},
   "outputs": [],
   "source": [
    "SEED = 367"
   ]
  },
  {
   "cell_type": "markdown",
   "id": "6d9e661d-158f-42af-b332-be9f811a1f4e",
   "metadata": {},
   "source": [
    "## Data exploration and pre-processing"
   ]
  },
  {
   "cell_type": "code",
   "execution_count": null,
   "id": "6961c2d7-ba6d-463c-b8ee-d0de736677d6",
   "metadata": {},
   "outputs": [],
   "source": [
    "X, y = load_iris(return_X_y=True)\n",
    "X_train, X_rest, y_train, y_rest = train_test_split(X, y, train_size=.7, random_state=SEED)\n",
    "X_val, X_test, y_val, y_test = train_test_split(X_rest, y_rest, train_size=.5, random_state=SEED)\n",
    "print(\"Training size: \", len(X_train))\n",
    "print(\"Validation size: \", len(X_val))\n",
    "print(\"Test size: \", len(X_test))"
   ]
  },
  {
   "cell_type": "code",
   "execution_count": null,
   "id": "030c09ed-9409-4623-871f-5ef16695c3b3",
   "metadata": {},
   "outputs": [],
   "source": [
    "print(\"Features shape: \",X_train.shape)\n",
    "print(\"Target shape: \",y_train.shape)\n",
    "print(f\"Feature value range: {np.min(X_train)} : {np.max(X_train)}\")"
   ]
  },
  {
   "cell_type": "code",
   "execution_count": null,
   "id": "f2c31b3c-ede1-4773-a12d-784e51f83546",
   "metadata": {},
   "outputs": [],
   "source": [
    "plot_histogram(Counter(y_train), title=\"Class distribution\")"
   ]
  },
  {
   "cell_type": "code",
   "execution_count": null,
   "id": "61d9b95e-5d71-402e-8c92-994e06e196de",
   "metadata": {},
   "outputs": [],
   "source": [
    "scaler = MinMaxScaler(feature_range=(0,np.pi))\n",
    "X_train = scaler.fit_transform(X_train)"
   ]
  },
  {
   "cell_type": "markdown",
   "id": "918a8142-09da-4b8e-9c6c-2ccec743c2d7",
   "metadata": {},
   "source": [
    "## QNN-circuits"
   ]
  },
  {
   "cell_type": "code",
   "execution_count": null,
   "id": "56c3647b-9c37-4f5b-8aac-df26a4427b89",
   "metadata": {},
   "outputs": [],
   "source": [
    "_features = [0.4, 0.3, 0.1, 0.2] # Only for display purposes"
   ]
  },
  {
   "cell_type": "code",
   "execution_count": null,
   "id": "f7932489",
   "metadata": {},
   "outputs": [],
   "source": [
    "# Circuit 1\n",
    "circ1 = circuit1(_features)\n",
    "circ1.draw(\"mpl\", reverse_bits=True, filename=\"images/circuit1.png\")"
   ]
  },
  {
   "cell_type": "code",
   "execution_count": null,
   "id": "4fa71d34-6995-4fb9-be0e-1db9e3a1606e",
   "metadata": {},
   "outputs": [],
   "source": [
    "# Circuit 2\n",
    "circ2 = circuit2(_features, layers=2)\n",
    "circ2.draw(\"mpl\", reverse_bits=True, filename=\"images/circuit2.png\")"
   ]
  },
  {
   "cell_type": "code",
   "execution_count": null,
   "id": "e70f73ae-3bd6-44d9-899b-18af9ca9a933",
   "metadata": {},
   "outputs": [],
   "source": [
    "# Circuit 3\n",
    "circ3 = circuit3(_features, layers=2)\n",
    "circ3.draw(\"mpl\", reverse_bits=True, filename=\"images/circuit3.png\")"
   ]
  },
  {
   "cell_type": "markdown",
   "id": "a37fbf21-0fa8-4bed-912e-f0c42f93e334",
   "metadata": {},
   "source": [
    "## Training and Validation"
   ]
  },
  {
   "cell_type": "code",
   "execution_count": null,
   "id": "f02d980e-ab25-4618-9b97-61484c98ffe3",
   "metadata": {},
   "outputs": [],
   "source": [
    "models = []\n",
    "model_accuracies = []\n",
    "n_samples = 5\n",
    "lr_range = [1, 1.5] \n",
    "epsilon_range = [0.5, 1]\n",
    "layers = [4, 8]\n",
    "architectures = [Model1, Model2, Model3]\n",
    "\n",
    "epochs = 20\n",
    "\n",
    "np.random.seed(SEED)\n",
    "for architecture in architectures:\n",
    "    for i in range(n_samples):\n",
    "        model_parameters = {\n",
    "            \"learning_rate\": round(np.random.uniform(*lr_range), 3),\n",
    "            \"epsilon\": round(np.random.uniform(*epsilon_range),3),\n",
    "            \"layers\": np.random.randint(*layers)\n",
    "        }\n",
    "        print(f\"Model architecture: {architecture}, sample: {i+1}\")\n",
    "        [print(f\"{k}: {v}, \", end=\"\") for k,v in model_parameters.items()]\n",
    "        print()\n",
    "        model = architecture(gradient_shots=1000, seed=SEED, **model_parameters)\n",
    "        model = model.fit(epochs, X_train, y_train, X_val, y_val, patience=2)\n",
    "        pred_train = model.predict(X_train)\n",
    "        pred_val = model.predict(X_val)\n",
    "        train_acc = accuracy_score(y_train, pred_train)\n",
    "        val_acc = accuracy_score(y_val, pred_val)\n",
    "        print(f\"Training accuracy: {train_acc*100:.2f}%, Validation accuracy: {val_acc*100:.2f}%\\n\")\n",
    "        \n",
    "        models.append(model)\n",
    "        model_accuracies.append(val_acc)"
   ]
  },
  {
   "cell_type": "code",
   "execution_count": null,
   "id": "e4491d20-1ab1-45b7-9bd1-081265e49933",
   "metadata": {},
   "outputs": [],
   "source": [
    "selected_model = models[model_accuracies.index(max(model_accuracies))]"
   ]
  },
  {
   "cell_type": "code",
   "execution_count": null,
   "id": "0d10dfe0-a5fc-4e07-af8a-ec8e18cf9524",
   "metadata": {},
   "outputs": [],
   "source": [
    "def plot_loss(train_loss, val_loss):\n",
    "    plt.title(\"Training and Validation loss\")\n",
    "    plt.plot(train_loss, label=\"Training\")\n",
    "    plt.plot(val_loss, label=\"Validation\")\n",
    "    plt.legend()\n",
    "    plt.savefig(\"images/loss.png\")\n",
    "    plt.show()"
   ]
  },
  {
   "cell_type": "code",
   "execution_count": null,
   "id": "8d12f214-3166-4298-8f70-08dab569ea47",
   "metadata": {},
   "outputs": [],
   "source": [
    "plot_loss(selected_model.train_loss, selected_model.val_loss)"
   ]
  },
  {
   "cell_type": "markdown",
   "id": "6a9933aa-67bf-4cfb-8e68-fbc3424fc5d6",
   "metadata": {},
   "source": [
    "## Test Performance"
   ]
  },
  {
   "cell_type": "code",
   "execution_count": null,
   "id": "6a64a0ab-5538-4c8b-a2ab-2b68614d331a",
   "metadata": {},
   "outputs": [],
   "source": [
    "preds = selected_model.predict(X_test)\n",
    "test_accuracy = accuracy_score(y_test, preds)"
   ]
  },
  {
   "cell_type": "code",
   "execution_count": null,
   "id": "c3368691-462d-44d6-9ac2-2ca06ed16ffd",
   "metadata": {},
   "outputs": [],
   "source": [
    "print(f\"Test accuracy: {test_accuracy*100:.2f}%\")\n",
    "print(f\"Model: {type(selected_model)},\\\n",
    "        learning_rate: {selected_model.learning_rate},\\\n",
    "        epsilon: {selected_model.epsilon},\\\n",
    "        layers: {selected_model.layers if type(selected_model) is not Model1 else ''}\")"
   ]
  },
  {
   "cell_type": "code",
   "execution_count": null,
   "id": "7104370d-3724-4a41-a5d1-3a1c41ff261c",
   "metadata": {},
   "outputs": [],
   "source": [
    "cm = confusion_matrix(y_test, preds)\n",
    "disp = ConfusionMatrixDisplay(cm)\n",
    "disp.plot()\n",
    "plt.savefig(\"images/confusion_matrix.png\")\n",
    "plt.show()"
   ]
  }
 ],
 "metadata": {
  "kernelspec": {
   "display_name": "Python 3 (ipykernel)",
   "language": "python",
   "name": "python3"
  },
  "language_info": {
   "codemirror_mode": {
    "name": "ipython",
    "version": 3
   },
   "file_extension": ".py",
   "mimetype": "text/x-python",
   "name": "python",
   "nbconvert_exporter": "python",
   "pygments_lexer": "ipython3",
   "version": "3.10.12"
  }
 },
 "nbformat": 4,
 "nbformat_minor": 5
}
