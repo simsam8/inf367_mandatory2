{
 "cells": [
  {
   "cell_type": "markdown",
   "id": "9683146c-d0ec-4cf2-8a9e-b02a4c8586e3",
   "metadata": {},
   "source": [
    "# INF367 Mandatory 2"
   ]
  },
  {
   "cell_type": "code",
   "execution_count": null,
   "id": "fdd2349b-dce7-4d2f-8833-8eb99d02a64a",
   "metadata": {},
   "outputs": [],
   "source": [
    "from sklearn.datasets import load_iris\n",
    "from sklearn.model_selection import train_test_split"
   ]
  },
  {
   "cell_type": "code",
   "execution_count": null,
   "id": "606467ba-384e-4dcb-9b58-9d881cf44463",
   "metadata": {},
   "outputs": [],
   "source": [
    "SEED = 367"
   ]
  },
  {
   "cell_type": "markdown",
   "id": "6d9e661d-158f-42af-b332-be9f811a1f4e",
   "metadata": {},
   "source": [
    "## Data exploration and pre-processing"
   ]
  },
  {
   "cell_type": "code",
   "execution_count": null,
   "id": "6961c2d7-ba6d-463c-b8ee-d0de736677d6",
   "metadata": {},
   "outputs": [],
   "source": [
    "X, y = load_iris(return_X_y=True)\n",
    "X_train, X_rest, y_train, y_rest = train_test_split(X, y, train_size=.7, random_state=SEED)\n",
    "X_val, X_test, y_val, y_test = train_test_split(X_rest, y_rest, random_state=SEED)\n",
    "print(\"Training size: \", len(X_train))\n",
    "print(\"Validation size: \", len(X_val))\n",
    "print(\"Test size: \", len(X_test))"
   ]
  },
  {
   "cell_type": "markdown",
   "id": "286e7fa8-7c72-45e3-b828-7f5b9cc1fa6b",
   "metadata": {},
   "source": [
    "## QNN-circuits"
   ]
  },
  {
   "cell_type": "markdown",
   "id": "08025c21-dcbd-4aa0-b154-0548deb4430f",
   "metadata": {},
   "source": [
    "## Gradient Descent Function"
   ]
  },
  {
   "cell_type": "markdown",
   "id": "a37fbf21-0fa8-4bed-912e-f0c42f93e334",
   "metadata": {},
   "source": [
    "## Training and Validation"
   ]
  },
  {
   "cell_type": "code",
   "execution_count": null,
   "id": "938d4d2a-1396-4981-8a94-d004bf2e6a80",
   "metadata": {},
   "outputs": [],
   "source": []
  },
  {
   "cell_type": "markdown",
   "id": "6a9933aa-67bf-4cfb-8e68-fbc3424fc5d6",
   "metadata": {},
   "source": [
    "## Test Performance"
   ]
  }
 ],
 "metadata": {
  "kernelspec": {
   "display_name": "Python 3 (ipykernel)",
   "language": "python",
   "name": "python3"
  },
  "language_info": {
   "codemirror_mode": {
    "name": "ipython",
    "version": 3
   },
   "file_extension": ".py",
   "mimetype": "text/x-python",
   "name": "python",
   "nbconvert_exporter": "python",
   "pygments_lexer": "ipython3",
   "version": "3.10.12"
  }
 },
 "nbformat": 4,
 "nbformat_minor": 5
}
