{
 "cells": [
  {
   "cell_type": "markdown",
   "id": "9683146c-d0ec-4cf2-8a9e-b02a4c8586e3",
   "metadata": {},
   "source": [
    "# INF367 Mandatory 2"
   ]
  },
  {
   "cell_type": "code",
   "execution_count": null,
   "id": "fdd2349b-dce7-4d2f-8833-8eb99d02a64a",
   "metadata": {},
   "outputs": [],
   "source": [
    "import numpy as np\n",
    "from sklearn.datasets import load_iris\n",
    "from sklearn.model_selection import train_test_split\n",
    "from sklearn.metrics import log_loss\n",
    "from sklearn.preprocessing import MinMaxScaler\n",
    "from qiskit.circuit.library import UnitaryGate\n",
    "from collections import Counter, defaultdict\n",
    "from qiskit import QuantumCircuit, transpile\n",
    "from qiskit.circuit import Parameter\n",
    "from qiskit.visualization import plot_histogram\n",
    "from qiskit.transpiler.preset_passmanagers import generate_preset_pass_manager\n",
    "from qiskit_aer import AerSimulator, QasmSimulator\n",
    "from qiskit_ibm_runtime import SamplerV2 as Sampler\n",
    "from qiskit.result import marginal_counts"
   ]
  },
  {
   "cell_type": "code",
   "execution_count": null,
   "id": "606467ba-384e-4dcb-9b58-9d881cf44463",
   "metadata": {},
   "outputs": [],
   "source": [
    "SEED = 367"
   ]
  },
  {
   "cell_type": "markdown",
   "id": "6d9e661d-158f-42af-b332-be9f811a1f4e",
   "metadata": {},
   "source": [
    "## Data exploration and pre-processing"
   ]
  },
  {
   "cell_type": "code",
   "execution_count": null,
   "id": "6961c2d7-ba6d-463c-b8ee-d0de736677d6",
   "metadata": {},
   "outputs": [],
   "source": [
    "X, y = load_iris(return_X_y=True)\n",
    "X_train, X_rest, y_train, y_rest = train_test_split(X, y, train_size=.7, random_state=SEED)\n",
    "X_val, X_test, y_val, y_test = train_test_split(X_rest, y_rest, train_size=.5, random_state=SEED)\n",
    "print(\"Training size: \", len(X_train))\n",
    "print(\"Validation size: \", len(X_val))\n",
    "print(\"Test size: \", len(X_test))"
   ]
  },
  {
   "cell_type": "code",
   "execution_count": null,
   "id": "030c09ed-9409-4623-871f-5ef16695c3b3",
   "metadata": {},
   "outputs": [],
   "source": [
    "print(\"Features shape: \",X_train.shape)\n",
    "print(\"Target shape: \",y_train.shape)\n",
    "print(f\"Feature value range: {np.min(X_train)} : {np.max(X_train)}\")\n",
    "print(\"Target values: \", Counter(y_train))"
   ]
  },
  {
   "cell_type": "code",
   "execution_count": null,
   "id": "61d9b95e-5d71-402e-8c92-994e06e196de",
   "metadata": {},
   "outputs": [],
   "source": [
    "scaler = MinMaxScaler(feature_range=(0,np.pi))\n",
    "X_train = scaler.fit_transform(X_train)"
   ]
  },
  {
   "cell_type": "markdown",
   "id": "e669bf04-03bd-446f-a38a-18cd3de0f874",
   "metadata": {},
   "source": [
    "### Helper functions"
   ]
  },
  {
   "cell_type": "code",
   "execution_count": null,
   "id": "9ce8aca0-c301-4782-8cbf-f48475bb1ca8",
   "metadata": {},
   "outputs": [],
   "source": [
    "def output_mapping(binary_counts, n_classes):\n",
    "    \"\"\"\n",
    "    Maps binary count output to n classes\n",
    "    \"\"\"\n",
    "    mapping = {}\n",
    "    class_preds = defaultdict(int)\n",
    "    for binary in binary_counts:\n",
    "        b_number = int(binary, base=2)\n",
    "        c = b_number % n_classes\n",
    "        mapping.update({binary:c})\n",
    "        \n",
    "    for binary, count in binary_counts.items():\n",
    "        class_preds[mapping[binary]] += count\n",
    "    \n",
    "    return class_preds"
   ]
  },
  {
   "cell_type": "code",
   "execution_count": null,
   "id": "b6f5207a-bffc-40fb-8b3d-8efa3399880a",
   "metadata": {},
   "outputs": [],
   "source": [
    "BACKEND = AerSimulator()\n",
    "def measure_circuit(qc: QuantumCircuit, shots:int=1000, qbits:list=None):\n",
    "    pm = generate_preset_pass_manager(backend=BACKEND, optimization_level=1)\n",
    "    isa_circuit = pm.run(qc)\n",
    "    result = BACKEND.run(isa_circuit, shots=shots).result()\n",
    "    if qbits is not None:\n",
    "        return marginal_counts(result, qbits).get_counts()\n",
    "    else:\n",
    "        return result.get_counts()"
   ]
  },
  {
   "cell_type": "markdown",
   "id": "918a8142-09da-4b8e-9c6c-2ccec743c2d7",
   "metadata": {},
   "source": [
    "## QNN-circuits"
   ]
  },
  {
   "cell_type": "code",
   "execution_count": null,
   "id": "f7932489",
   "metadata": {},
   "outputs": [],
   "source": [
    "# Qircuit 1\n",
    "def make_circuit1(features, parameters):\n",
    "    qc_1 = QuantumCircuit(4, 4)\n",
    "    for i in range(4):\n",
    "        qc_1.rx(qubit=i, theta=features[i])\n",
    "    qc_1.barrier()\n",
    "\n",
    "    #qc_1_unitary_V2 = UnitaryGate([[1,0], [0,1]])\n",
    "    params = [Parameter(f\"{i}\") for i in range(9)]\n",
    "    qc_1.append(Custom_UnitaryGate1([params[0], params[1]]), [3,2])\n",
    "    qc_1.append(Custom_UnitaryGate1([params[0], params[1]]), [1,0])\n",
    "    qc_1.barrier()\n",
    "\n",
    "    qc_1.measure(qubit=2, cbit=2)\n",
    "    qc_1.append(Custom_UnitaryGateV([params[2], params[3], params[4]]).control(1), [2,3])\n",
    "\n",
    "    qc_1.measure(qubit=0, cbit=0)\n",
    "    qc_1.append(Custom_UnitaryGateV([params[2], params[3], params[4]]).control(1), [0,1])\n",
    "    \n",
    "    qc_1.barrier()\n",
    "    qc_1.append(Custom_UnitaryGate2([params[5], params[6], params[7], params[8]]), [3,1])\n",
    "    qc_1.measure(qubit=1, cbit=1)\n",
    "    qc_1.measure(qubit=3, cbit=3)\n",
    "\n",
    "    qc_1 = qc_1.assign_parameters(parameters)\n",
    "    return qc_1\n",
    "\n",
    "def Custom_UnitaryGate1(parameters):\n",
    "    qc = QuantumCircuit(2)\n",
    "    qc.cx(0,1)\n",
    "    qc.rz(parameters[0], 1)\n",
    "    qc.ry(parameters[1], 0)\n",
    "    qc.cx(0,1)\n",
    "    return qc.to_gate(label=\"U1\")\n",
    "\n",
    "def Custom_UnitaryGate2(parameters):\n",
    "    qc = QuantumCircuit(2)\n",
    "    qc.cx(0,1)\n",
    "    qc.rx(parameters[0], 1)\n",
    "    qc.rx(parameters[1], 0)\n",
    "    qc.rz(parameters[2], 0)\n",
    "    qc.rz(parameters[3], 1)\n",
    "    qc.cx(0,1)\n",
    "    return qc.to_gate(label=\"U2\")\n",
    "\n",
    "def Custom_UnitaryGateV(parameters):\n",
    "    qc = QuantumCircuit(1)\n",
    "    qc.rx(parameters[0], 0)\n",
    "    qc.ry(parameters[1], 0)\n",
    "    qc.rz(parameters[2], 0)\n",
    "    return qc.to_gate(label=\"V\")\n",
    "\n",
    "circ1 = make_circuit1([1.61567622, 1.83259571, 2.34288266, 3.00500167], [1,2,1,2,1,2,1,2,3])\n",
    "circ1.decompose()\n",
    "circ1.draw(reverse_bits=True, output=\"mpl\")"
   ]
  },
  {
   "cell_type": "code",
   "execution_count": null,
   "id": "27fc7d4c-89e6-459d-92c7-dae728320681",
   "metadata": {},
   "outputs": [],
   "source": [
    "results = measure_circuit(circ1, 1000)\n",
    "plot_histogram(results)\n",
    "# output_mapping(results, 3)"
   ]
  },
  {
   "cell_type": "code",
   "execution_count": null,
   "id": "4fa71d34-6995-4fb9-be0e-1db9e3a1606e",
   "metadata": {},
   "outputs": [],
   "source": [
    "# Circuit 2\n",
    "\n",
    "def circuit2(features, trainable_parameters, layers=2):\n",
    "    input_size = len(features)\n",
    "    qc = QuantumCircuit(input_size)\n",
    "    for i in range(input_size):\n",
    "        qc.rx(features[i], i)\n",
    "    qc.barrier()\n",
    "\n",
    "    for i in range(layers):\n",
    "        for j in range(input_size):\n",
    "            qc.ry(Parameter(f\"phi{i}{j}\"),j)\n",
    "        for j in range(input_size-1, 0, -1):\n",
    "            qc.cx(j, j-1)\n",
    "        qc.barrier()\n",
    "\n",
    "    qc = qc.assign_parameters(trainable_parameters)\n",
    "    qc.measure_all()\n",
    "    return qc\n",
    "    \n",
    "layers = 8\n",
    "feature_size = 4\n",
    "parameters = np.random.uniform(low=0, high=np.pi, size=(layers*feature_size,))\n",
    "circ2 = circuit2([0, 1.64, 2.24, 3.0], parameters, layers)\n",
    "circ2.draw(\"mpl\", reverse_bits=True)"
   ]
  },
  {
   "cell_type": "code",
   "execution_count": null,
   "id": "c575ae30-76ce-48ac-9e9d-b6093386d611",
   "metadata": {},
   "outputs": [],
   "source": [
    "results = measure_circuit(circ2, 500)\n",
    "plot_histogram(results)\n",
    "# test = output_mapping(results, 3)"
   ]
  },
  {
   "cell_type": "code",
   "execution_count": null,
   "id": "34e153aa-09c9-465e-84ca-d1f6c66c8dfa",
   "metadata": {},
   "outputs": [],
   "source": [
    "# Circuit 3\n",
    "\n",
    "qc_3 = QuantumCircuit()"
   ]
  },
  {
   "cell_type": "markdown",
   "id": "931b7d34-cf76-44d2-9f2e-d4705d2ac32c",
   "metadata": {},
   "source": [
    "## Gradient Descent Function"
   ]
  },
  {
   "cell_type": "code",
   "execution_count": null,
   "id": "470f817e-f947-421c-820e-d74c83cfc349",
   "metadata": {},
   "outputs": [],
   "source": [
    "class TestModel():\n",
    "    def __init__(self, circuit_func, layers=2, learning_rate=0.01, gradient_shots=100):\n",
    "        self.layers = layers\n",
    "        self.feature_size = 4\n",
    "        self.parameters = np.random.uniform(low=0, high=np.pi, size=(layers*feature_size,))\n",
    "        self.circuit_func = circuit_func\n",
    "        self.learning_rate = learning_rate\n",
    "        self.gradient_shots = gradient_shots\n",
    "\n",
    "    def gradient(self, data, targets, epsilon):\n",
    "        gradients = []\n",
    "        for i in range(len(self.parameters)):\n",
    "            # print(i)\n",
    "            # print(self.parameters)\n",
    "            p1 = self.parameters.copy()\n",
    "            p1[i] += epsilon\n",
    "            # print(p1)\n",
    "            p2 = self.parameters.copy()\n",
    "            p2[i] -= epsilon\n",
    "            # print(p2)\n",
    "            loss1 = self._loss(data, targets, p1)\n",
    "            loss2 = self._loss(data, targets, p2)\n",
    "            partial = (loss1 - loss2)/2*epsilon\n",
    "            gradients.append(partial)\n",
    "        return np.array(gradients)\n",
    "        \n",
    "    \n",
    "    def _loss(self, data, targets, parameters):\n",
    "        y = []\n",
    "        for features in data:\n",
    "            circuit = self.circuit_func(features, parameters, self.layers)\n",
    "            results = measure_circuit(circuit, self.gradient_shots)\n",
    "            class_output = sorted(output_mapping(results, 3).items())\n",
    "            probs = [n/self.gradient_shots for _,n in class_output]\n",
    "            y.append(probs)\n",
    "        # y = np.array(y)\n",
    "        # print(y)\n",
    "        # print(targets\n",
    "        return log_loss(targets, y, labels=[0,1,2])\n",
    "        \n",
    "\n",
    "    def fit(self, data, targets):\n",
    "        for i in range(5): \n",
    "            print(f\"Epoch {i}\")\n",
    "            gradient = self.gradient(data, targets, 0.5)\n",
    "            self.parameters -= self.learning_rate * gradient\n",
    "        return self\n",
    "        \n",
    "    def predict(self, X):\n",
    "        y = []\n",
    "        for row in X:\n",
    "            circuit = self.circuit_func(row, self.parameters, self.layers)\n",
    "            results = measure_circuit(circuit, 1000)\n",
    "            class_output = sorted(output_mapping(results, 3).items())\n",
    "            probs = [n/1000 for _,n in class_output]\n",
    "            y.append(probs)\n",
    "        # return np.array(y)\n",
    "        return y"
   ]
  },
  {
   "cell_type": "code",
   "execution_count": null,
   "id": "4b4eea51-7000-4d18-8199-2ab25cef7ec6",
   "metadata": {},
   "outputs": [],
   "source": [
    "test_model = TestModel(circuit2, layers=1, learning_rate=0.6)\n",
    "# test_model.gradient(X_train, y_train, epsilon=1)\n",
    "\n",
    "print(log_loss(y_train, test_model.predict(X_train)))\n",
    "      \n",
    "trained_model = test_model.fit(X_train, y_train)\n",
    "print(log_loss(y_train, trained_model.predict(X_train)))"
   ]
  },
  {
   "cell_type": "code",
   "execution_count": null,
   "id": "0d10dfe0-a5fc-4e07-af8a-ec8e18cf9524",
   "metadata": {},
   "outputs": [],
   "source": []
  },
  {
   "cell_type": "code",
   "execution_count": null,
   "id": "8d12f214-3166-4298-8f70-08dab569ea47",
   "metadata": {},
   "outputs": [],
   "source": [
    "preds"
   ]
  },
  {
   "cell_type": "code",
   "execution_count": null,
   "id": "652901e7-2114-4cb6-b373-aa2314d59a14",
   "metadata": {},
   "outputs": [],
   "source": [
    "log_loss(y_train, preds, labels=[0,1,2])"
   ]
  },
  {
   "cell_type": "markdown",
   "id": "a37fbf21-0fa8-4bed-912e-f0c42f93e334",
   "metadata": {},
   "source": [
    "## Training and Validation"
   ]
  },
  {
   "cell_type": "code",
   "execution_count": null,
   "id": "938d4d2a-1396-4981-8a94-d004bf2e6a80",
   "metadata": {},
   "outputs": [],
   "source": []
  },
  {
   "cell_type": "markdown",
   "id": "6a9933aa-67bf-4cfb-8e68-fbc3424fc5d6",
   "metadata": {},
   "source": [
    "## Test Performance"
   ]
  }
 ],
 "metadata": {
  "kernelspec": {
   "display_name": "Python 3 (ipykernel)",
   "language": "python",
   "name": "python3"
  },
  "language_info": {
   "codemirror_mode": {
    "name": "ipython",
    "version": 3
   },
   "file_extension": ".py",
   "mimetype": "text/x-python",
   "name": "python",
   "nbconvert_exporter": "python",
   "pygments_lexer": "ipython3",
   "version": "3.10.12"
  }
 },
 "nbformat": 4,
 "nbformat_minor": 5
}
